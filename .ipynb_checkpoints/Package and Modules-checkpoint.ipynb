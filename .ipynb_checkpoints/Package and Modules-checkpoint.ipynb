{
 "cells": [
  {
   "cell_type": "code",
   "execution_count": 1,
   "id": "f33c15c5-5bec-4fc7-9c46-a6693f861215",
   "metadata": {
    "tags": []
   },
   "outputs": [],
   "source": [
    "import hello"
   ]
  },
  {
   "cell_type": "code",
   "execution_count": 2,
   "id": "065639fb-c2c8-4809-a377-6fd57e73e0e1",
   "metadata": {
    "tags": []
   },
   "outputs": [
    {
     "data": {
      "text/plain": [
       "100"
      ]
     },
     "execution_count": 2,
     "metadata": {},
     "output_type": "execute_result"
    }
   ],
   "source": [
    "hello.x"
   ]
  },
  {
   "cell_type": "code",
   "execution_count": 3,
   "id": "aff9f574-6a2b-4f50-a3dc-1af312a720ea",
   "metadata": {
    "tags": []
   },
   "outputs": [
    {
     "data": {
      "text/plain": [
       "'Hello world'"
      ]
     },
     "execution_count": 3,
     "metadata": {},
     "output_type": "execute_result"
    }
   ],
   "source": [
    "hello.print_something()"
   ]
  },
  {
   "cell_type": "code",
   "execution_count": 4,
   "id": "272e79f4-9fae-4c76-a3bd-6eaf31393b63",
   "metadata": {
    "tags": []
   },
   "outputs": [],
   "source": [
    "from PackageA.PackageB import f1"
   ]
  },
  {
   "cell_type": "code",
   "execution_count": 5,
   "id": "adb2540e-dbeb-4c7b-8eed-48fca5f5e5c6",
   "metadata": {
    "tags": []
   },
   "outputs": [
    {
     "data": {
      "text/plain": [
       "'output from f1 module'"
      ]
     },
     "execution_count": 5,
     "metadata": {},
     "output_type": "execute_result"
    }
   ],
   "source": [
    "f1.print_something()"
   ]
  },
  {
   "cell_type": "code",
   "execution_count": 7,
   "id": "6e0ffc4a-da9d-4596-b032-886971115d5f",
   "metadata": {
    "tags": []
   },
   "outputs": [],
   "source": [
    "from PackageA import f2"
   ]
  },
  {
   "cell_type": "code",
   "execution_count": 8,
   "id": "451b9f5c-73ea-493d-a468-ccf9867e6af8",
   "metadata": {
    "tags": []
   },
   "outputs": [
    {
     "data": {
      "text/plain": [
       "'output from f2 module'"
      ]
     },
     "execution_count": 8,
     "metadata": {},
     "output_type": "execute_result"
    }
   ],
   "source": [
    "f2.print_something()"
   ]
  },
  {
   "cell_type": "code",
   "execution_count": 9,
   "id": "cf62e607-3fe7-4f52-8391-83c378887315",
   "metadata": {
    "tags": []
   },
   "outputs": [],
   "source": [
    "import PackageA"
   ]
  },
  {
   "cell_type": "code",
   "execution_count": 12,
   "id": "aed15aa7-41dd-45a5-9b0b-545c6d22ab56",
   "metadata": {
    "tags": []
   },
   "outputs": [
    {
     "name": "stdout",
     "output_type": "stream",
     "text": [
      "None\n"
     ]
    }
   ],
   "source": [
    "print(PackageA.__file__)"
   ]
  },
  {
   "cell_type": "code",
   "execution_count": null,
   "id": "4d839d87-f56f-4709-9296-118eee794d6e",
   "metadata": {},
   "outputs": [],
   "source": []
  }
 ],
 "metadata": {
  "kernelspec": {
   "display_name": "Python 3 (ipykernel)",
   "language": "python",
   "name": "python3"
  },
  "language_info": {
   "codemirror_mode": {
    "name": "ipython",
    "version": 3
   },
   "file_extension": ".py",
   "mimetype": "text/x-python",
   "name": "python",
   "nbconvert_exporter": "python",
   "pygments_lexer": "ipython3",
   "version": "3.11.3"
  }
 },
 "nbformat": 4,
 "nbformat_minor": 5
}
